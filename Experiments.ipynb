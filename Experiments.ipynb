{
 "cells": [
  {
   "cell_type": "code",
   "id": "initial_id",
   "metadata": {
    "collapsed": true,
    "ExecuteTime": {
     "end_time": "2024-09-03T11:16:53.879209Z",
     "start_time": "2024-09-03T11:16:53.874233Z"
    }
   },
   "source": [
    "import numpy as np\n",
    "import pandas as pd"
   ],
   "outputs": [],
   "execution_count": 89
  },
  {
   "metadata": {
    "ExecuteTime": {
     "end_time": "2024-09-03T11:16:55.711081Z",
     "start_time": "2024-09-03T11:16:54.309157Z"
    }
   },
   "cell_type": "code",
   "source": [
    "!pip3 install scikit-learn\n",
    "!pip3 install rpy2"
   ],
   "id": "6c752a4c015448da",
   "outputs": [
    {
     "name": "stdout",
     "output_type": "stream",
     "text": [
      "\u001B[1;31merror\u001B[0m: \u001B[1mexternally-managed-environment\u001B[0m\r\n",
      "\r\n",
      "\u001B[31m×\u001B[0m This environment is externally managed\r\n",
      "\u001B[31m╰─>\u001B[0m To install Python packages system-wide, try brew install\r\n",
      "\u001B[31m   \u001B[0m xyz, where xyz is the package you are trying to\r\n",
      "\u001B[31m   \u001B[0m install.\r\n",
      "\u001B[31m   \u001B[0m \r\n",
      "\u001B[31m   \u001B[0m If you wish to install a Python library that isn't in Homebrew,\r\n",
      "\u001B[31m   \u001B[0m use a virtual environment:\r\n",
      "\u001B[31m   \u001B[0m \r\n",
      "\u001B[31m   \u001B[0m python3 -m venv path/to/venv\r\n",
      "\u001B[31m   \u001B[0m source path/to/venv/bin/activate\r\n",
      "\u001B[31m   \u001B[0m python3 -m pip install xyz\r\n",
      "\u001B[31m   \u001B[0m \r\n",
      "\u001B[31m   \u001B[0m If you wish to install a Python application that isn't in Homebrew,\r\n",
      "\u001B[31m   \u001B[0m it may be easiest to use 'pipx install xyz', which will manage a\r\n",
      "\u001B[31m   \u001B[0m virtual environment for you. You can install pipx with\r\n",
      "\u001B[31m   \u001B[0m \r\n",
      "\u001B[31m   \u001B[0m brew install pipx\r\n",
      "\u001B[31m   \u001B[0m \r\n",
      "\u001B[31m   \u001B[0m You may restore the old behavior of pip by passing\r\n",
      "\u001B[31m   \u001B[0m the '--break-system-packages' flag to pip, or by adding\r\n",
      "\u001B[31m   \u001B[0m 'break-system-packages = true' to your pip.conf file. The latter\r\n",
      "\u001B[31m   \u001B[0m will permanently disable this error.\r\n",
      "\u001B[31m   \u001B[0m \r\n",
      "\u001B[31m   \u001B[0m If you disable this error, we STRONGLY recommend that you additionally\r\n",
      "\u001B[31m   \u001B[0m pass the '--user' flag to pip, or set 'user = true' in your pip.conf\r\n",
      "\u001B[31m   \u001B[0m file. Failure to do this can result in a broken Homebrew installation.\r\n",
      "\u001B[31m   \u001B[0m \r\n",
      "\u001B[31m   \u001B[0m Read more about this behavior here: <https://peps.python.org/pep-0668/>\r\n",
      "\r\n",
      "\u001B[1;35mnote\u001B[0m: If you believe this is a mistake, please contact your Python installation or OS distribution provider. You can override this, at the risk of breaking your Python installation or OS, by passing --break-system-packages.\r\n",
      "\u001B[1;36mhint\u001B[0m: See PEP 668 for the detailed specification.\r\n",
      "\u001B[1;31merror\u001B[0m: \u001B[1mexternally-managed-environment\u001B[0m\r\n",
      "\r\n",
      "\u001B[31m×\u001B[0m This environment is externally managed\r\n",
      "\u001B[31m╰─>\u001B[0m To install Python packages system-wide, try brew install\r\n",
      "\u001B[31m   \u001B[0m xyz, where xyz is the package you are trying to\r\n",
      "\u001B[31m   \u001B[0m install.\r\n",
      "\u001B[31m   \u001B[0m \r\n",
      "\u001B[31m   \u001B[0m If you wish to install a Python library that isn't in Homebrew,\r\n",
      "\u001B[31m   \u001B[0m use a virtual environment:\r\n",
      "\u001B[31m   \u001B[0m \r\n",
      "\u001B[31m   \u001B[0m python3 -m venv path/to/venv\r\n",
      "\u001B[31m   \u001B[0m source path/to/venv/bin/activate\r\n",
      "\u001B[31m   \u001B[0m python3 -m pip install xyz\r\n",
      "\u001B[31m   \u001B[0m \r\n",
      "\u001B[31m   \u001B[0m If you wish to install a Python application that isn't in Homebrew,\r\n",
      "\u001B[31m   \u001B[0m it may be easiest to use 'pipx install xyz', which will manage a\r\n",
      "\u001B[31m   \u001B[0m virtual environment for you. You can install pipx with\r\n",
      "\u001B[31m   \u001B[0m \r\n",
      "\u001B[31m   \u001B[0m brew install pipx\r\n",
      "\u001B[31m   \u001B[0m \r\n",
      "\u001B[31m   \u001B[0m You may restore the old behavior of pip by passing\r\n",
      "\u001B[31m   \u001B[0m the '--break-system-packages' flag to pip, or by adding\r\n",
      "\u001B[31m   \u001B[0m 'break-system-packages = true' to your pip.conf file. The latter\r\n",
      "\u001B[31m   \u001B[0m will permanently disable this error.\r\n",
      "\u001B[31m   \u001B[0m \r\n",
      "\u001B[31m   \u001B[0m If you disable this error, we STRONGLY recommend that you additionally\r\n",
      "\u001B[31m   \u001B[0m pass the '--user' flag to pip, or set 'user = true' in your pip.conf\r\n",
      "\u001B[31m   \u001B[0m file. Failure to do this can result in a broken Homebrew installation.\r\n",
      "\u001B[31m   \u001B[0m \r\n",
      "\u001B[31m   \u001B[0m Read more about this behavior here: <https://peps.python.org/pep-0668/>\r\n",
      "\r\n",
      "\u001B[1;35mnote\u001B[0m: If you believe this is a mistake, please contact your Python installation or OS distribution provider. You can override this, at the risk of breaking your Python installation or OS, by passing --break-system-packages.\r\n",
      "\u001B[1;36mhint\u001B[0m: See PEP 668 for the detailed specification.\r\n"
     ]
    }
   ],
   "execution_count": 90
  },
  {
   "metadata": {
    "ExecuteTime": {
     "end_time": "2024-09-03T11:16:55.717261Z",
     "start_time": "2024-09-03T11:16:55.713602Z"
    }
   },
   "cell_type": "code",
   "source": "from sklearn import datasets",
   "id": "c4ca716270f8722e",
   "outputs": [],
   "execution_count": 91
  },
  {
   "metadata": {
    "ExecuteTime": {
     "end_time": "2024-09-03T11:16:55.999322Z",
     "start_time": "2024-09-03T11:16:55.995695Z"
    }
   },
   "cell_type": "code",
   "source": "from pmm import pmm",
   "id": "1462307cea8d1bee",
   "outputs": [],
   "execution_count": 92
  },
  {
   "metadata": {
    "ExecuteTime": {
     "end_time": "2024-09-03T10:54:37.293170Z",
     "start_time": "2024-09-03T10:54:37.278524Z"
    }
   },
   "cell_type": "code",
   "source": [
    "# Logical Test\n",
    "data = {\n",
    "        'A': [1, 2, 3, 4, 5],\n",
    "        'B': [5, 6, 7, 8, 9],\n",
    "        'C': [np.nan, 2, 3, 4, 5]\n",
    "    }\n",
    "df = pd.DataFrame(data)\n",
    "\n",
    "    # Impute missing values in column 'C' with 2 donors\n",
    "imputed_df = pmm(df, 'C', donors=4)\n",
    "\n",
    "    # Show imputed DataFrame\n",
    "print(\"DataFrame with imputed values:\")\n",
    "print(imputed_df)"
   ],
   "id": "8ef6f930605a4f0c",
   "outputs": [
    {
     "name": "stdout",
     "output_type": "stream",
     "text": [
      "DataFrame with imputed values:\n",
      "   A  B    C\n",
      "0  1  5  5.0\n",
      "1  2  6  2.0\n",
      "2  3  7  3.0\n",
      "3  4  8  4.0\n",
      "4  5  9  5.0\n"
     ]
    },
    {
     "name": "stderr",
     "output_type": "stream",
     "text": [
      "/Users/oleksandrmakarevych/Library/Mobile Documents/com~apple~CloudDocs/Thesis/MICE/pmm.py:66: SettingWithCopyWarning: \n",
      "A value is trying to be set on a copy of a slice from a DataFrame\n",
      "\n",
      "See the caveats in the documentation: https://pandas.pydata.org/pandas-docs/stable/user_guide/indexing.html#returning-a-view-versus-a-copy\n",
      "  imputed_data = original_data.copy()\n"
     ]
    }
   ],
   "execution_count": 59
  },
  {
   "metadata": {
    "ExecuteTime": {
     "end_time": "2024-09-03T11:17:01.175972Z",
     "start_time": "2024-09-03T11:17:01.159503Z"
    }
   },
   "cell_type": "code",
   "source": [
    "boys = pd.read_csv(\"boys.csv\", index_col=0, header=0)\n",
    "print(boys.head())\n",
    "print(len(boys))"
   ],
   "id": "246cda5a15c9c4b1",
   "outputs": [
    {
     "name": "stdout",
     "output_type": "stream",
     "text": [
      "      age   hgt   wgt    bmi    hc  gen  phb  tv    reg\n",
      "3   0.035  50.1  3.65  14.54  33.7  NaN  NaN NaN  south\n",
      "4   0.038  53.5  3.37  11.77  35.0  NaN  NaN NaN  south\n",
      "18  0.057  50.0  3.14  12.56  35.2  NaN  NaN NaN  south\n",
      "23  0.060  54.5  4.27  14.37  36.7  NaN  NaN NaN  south\n",
      "28  0.062  57.5  5.03  15.21  37.3  NaN  NaN NaN  south\n",
      "748\n"
     ]
    }
   ],
   "execution_count": 93
  },
  {
   "metadata": {
    "ExecuteTime": {
     "end_time": "2024-09-03T11:17:04.468737Z",
     "start_time": "2024-09-03T11:17:04.459409Z"
    }
   },
   "cell_type": "code",
   "source": "boys.isna().sum()",
   "id": "8a896bc3ba28dc68",
   "outputs": [
    {
     "data": {
      "text/plain": [
       "age      0\n",
       "hgt     20\n",
       "wgt      4\n",
       "bmi     21\n",
       "hc      46\n",
       "gen    503\n",
       "phb    503\n",
       "tv     522\n",
       "reg      3\n",
       "dtype: int64"
      ]
     },
     "execution_count": 94,
     "metadata": {},
     "output_type": "execute_result"
    }
   ],
   "execution_count": 94
  },
  {
   "metadata": {
    "ExecuteTime": {
     "end_time": "2024-09-03T10:54:38.778Z",
     "start_time": "2024-09-03T10:54:38.773546Z"
    }
   },
   "cell_type": "code",
   "source": [
    "import matplotlib.pyplot as plt\n",
    "\n",
    "def plot_imputation(original_data, target_column, imputed_data, imputed_values):\n",
    "    \"\"\"\n",
    "    Plot the imputation results.\n",
    "\n",
    "    Parameters:\n",
    "        original_data (pd.DataFrame): The original dataset with missing values.\n",
    "        target_column (str): The name of the column with missing values.\n",
    "        imputed_data (pd.DataFrame): The DataFrame with imputed values.\n",
    "        imputed_values (pd.Series): The imputed values for plotting.\n",
    "    \"\"\"\n",
    "    plt.figure(figsize=(10, 6))\n",
    "    \n",
    "    # Scatter plot for original data\n",
    "    plt.scatter(original_data['age'], original_data[target_column], color='blue', label='Observed Data', marker='o')\n",
    "    \n",
    "    # # Scatter plot for imputed data\n",
    "    plt.scatter(original_data.loc[original_data[target_column].isna(), 'age'], imputed_values, color='red', label='Imputed Data', marker='x')\n",
    "    \n",
    "    # Labels and title\n",
    "    plt.xlabel('Age')\n",
    "    plt.ylabel('BMI')\n",
    "    plt.title('BMI Imputation using Predictive Mean Matching')\n",
    "    plt.legend()\n",
    "    \n",
    "    # Show plot\n",
    "    plt.show()"
   ],
   "id": "6e68edbbe655f2c0",
   "outputs": [],
   "execution_count": 62
  },
  {
   "metadata": {
    "ExecuteTime": {
     "end_time": "2024-09-03T11:33:38.387319Z",
     "start_time": "2024-09-03T11:33:38.294220Z"
    }
   },
   "cell_type": "code",
   "source": [
    "# boys[['bmi', 'age']]import matplotlib.pyplot as plt\n",
    "import matplotlib.pyplot as plt\n",
    "def plot_imputation(original_data, target_column, imputed_data, imputed_values):\n",
    "    original_data = boys\n",
    "    target_column = \"bmi\"\n",
    "    imputed_data = imputed_df\n",
    "    imputed_values = imputed_values\n",
    "    \"\"\"\n",
    "    Plot the imputation results.\n",
    "\n",
    "    Parameters:\n",
    "        original_data (pd.DataFrame): The original dataset with missing values.\n",
    "        target_column (str): The name of the column with missing values.\n",
    "        imputed_data (pd.DataFrame): The DataFrame with imputed values.\n",
    "        imputed_values (pd.Series): The imputed values for plotting.\n",
    "    \"\"\"\n",
    "    plt.figure(figsize=(10, 6))\n",
    "    \n",
    "    # Scatter plot for original data\n",
    "    plt.scatter(original_data['age'], original_data[target_column], color='blue', label='Observed Data', marker='o')\n",
    "    \n",
    "    # # Scatter plot for imputed data\n",
    "    print(len(original_data.loc[original_data[target_column].isna(), 'age']))\n",
    "    print(len(imputed_values))\n",
    "    plt.scatter(original_data.loc[original_data[target_column].isna(), 'age'], imputed_values, color='yellow', label='Imputed Data', marker='x')\n",
    "    \n",
    "    # Labels and title\n",
    "    plt.xlabel('Age')\n",
    "    plt.ylabel('BMI')\n",
    "    plt.title('BMI Imputation using Predictive Mean Matching')\n",
    "    plt.legend()\n",
    "    \n",
    "    # Show plot\n",
    "    plt.show()"
   ],
   "id": "f79cb530ff7aedc4",
   "outputs": [],
   "execution_count": 18
  },
  {
   "metadata": {
    "ExecuteTime": {
     "end_time": "2024-09-03T11:50:18.145484Z",
     "start_time": "2024-09-03T11:50:17.963724Z"
    }
   },
   "cell_type": "code",
   "source": [
    "    # Impute missing values in column 'BMI' with 2 donors\n",
    "    from pmm import  pmm\n",
    "    boys = pd.read_csv(\"boys.csv\", index_col=0, header=0)\n",
    "    boys = boys.loc[boys['age'] <= 2]\n",
    "    # boys['bmi'] = np.log(boys['bmi'])\n",
    "    imputed_df, imputed_values = pmm(boys[['bmi', 'age']], 'bmi', donors=5)\n",
    "    print(len(imputed_values))\n",
    "    # Show imputed DataFrame\n",
    "    print(\"DataFrame with imputed values:\")\n",
    "    print(imputed_df)\n",
    "\n",
    "    # Plotting the imputation results\n",
    "    plot_imputation(boys, 'bmi', imputed_df, imputed_values)\n"
   ],
   "id": "c8e98854fcf4927c",
   "outputs": [
    {
     "name": "stdout",
     "output_type": "stream",
     "text": [
      "18\n",
      "DataFrame with imputed values:\n",
      "        bmi    age\n",
      "3     14.54  0.035\n",
      "4     11.77  0.038\n",
      "18    12.56  0.057\n",
      "23    14.37  0.060\n",
      "28    15.21  0.062\n",
      "...     ...    ...\n",
      "2000  17.50  1.973\n",
      "2008  15.27  1.979\n",
      "2009  17.26  1.979\n",
      "2018  15.92  1.990\n",
      "2020  15.92  1.993\n",
      "\n",
      "[216 rows x 2 columns]\n",
      "18\n",
      "18\n"
     ]
    },
    {
     "data": {
      "text/plain": [
       "<Figure size 1000x600 with 1 Axes>"
      ],
      "image/png": "[encoded data removed]"
     },
     "metadata": {},
     "output_type": "display_data"
    }
   ],
   "execution_count": 47
  },
  {
   "metadata": {
    "ExecuteTime": {
     "end_time": "2024-09-03T11:44:49.487831Z",
     "start_time": "2024-09-03T11:44:49.479386Z"
    }
   },
   "cell_type": "code",
   "source": "boys[['age', 'bmi']].isna()",
   "id": "dc97e0fa9e3af57a",
   "outputs": [
    {
     "data": {
      "text/plain": [
       "        age    bmi\n",
       "3     False  False\n",
       "4     False  False\n",
       "18    False  False\n",
       "23    False  False\n",
       "28    False  False\n",
       "...     ...    ...\n",
       "2000  False   True\n",
       "2008  False  False\n",
       "2009  False   True\n",
       "2018  False   True\n",
       "2020  False  False\n",
       "\n",
       "[216 rows x 2 columns]"
      ],
      "text/html": [
       "<div>\n",
       "<style scoped>\n",
       "    .dataframe tbody tr th:only-of-type {\n",
       "        vertical-align: middle;\n",
       "    }\n",
       "\n",
       "    .dataframe tbody tr th {\n",
       "        vertical-align: top;\n",
       "    }\n",
       "\n",
       "    .dataframe thead th {\n",
       "        text-align: right;\n",
       "    }\n",
       "</style>\n",
       "<table border=\"1\" class=\"dataframe\">\n",
       "  <thead>\n",
       "    <tr style=\"text-align: right;\">\n",
       "      <th></th>\n",
       "      <th>age</th>\n",
       "      <th>bmi</th>\n",
       "    </tr>\n",
       "  </thead>\n",
       "  <tbody>\n",
       "    <tr>\n",
       "      <th>3</th>\n",
       "      <td>False</td>\n",
       "      <td>False</td>\n",
       "    </tr>\n",
       "    <tr>\n",
       "      <th>4</th>\n",
       "      <td>False</td>\n",
       "      <td>False</td>\n",
       "    </tr>\n",
       "    <tr>\n",
       "      <th>18</th>\n",
       "      <td>False</td>\n",
       "      <td>False</td>\n",
       "    </tr>\n",
       "    <tr>\n",
       "      <th>23</th>\n",
       "      <td>False</td>\n",
       "      <td>False</td>\n",
       "    </tr>\n",
       "    <tr>\n",
       "      <th>28</th>\n",
       "      <td>False</td>\n",
       "      <td>False</td>\n",
       "    </tr>\n",
       "    <tr>\n",
       "      <th>...</th>\n",
       "      <td>...</td>\n",
       "      <td>...</td>\n",
       "    </tr>\n",
       "    <tr>\n",
       "      <th>2000</th>\n",
       "      <td>False</td>\n",
       "      <td>True</td>\n",
       "    </tr>\n",
       "    <tr>\n",
       "      <th>2008</th>\n",
       "      <td>False</td>\n",
       "      <td>False</td>\n",
       "    </tr>\n",
       "    <tr>\n",
       "      <th>2009</th>\n",
       "      <td>False</td>\n",
       "      <td>True</td>\n",
       "    </tr>\n",
       "    <tr>\n",
       "      <th>2018</th>\n",
       "      <td>False</td>\n",
       "      <td>True</td>\n",
       "    </tr>\n",
       "    <tr>\n",
       "      <th>2020</th>\n",
       "      <td>False</td>\n",
       "      <td>False</td>\n",
       "    </tr>\n",
       "  </tbody>\n",
       "</table>\n",
       "<p>216 rows × 2 columns</p>\n",
       "</div>"
      ]
     },
     "execution_count": 40,
     "metadata": {},
     "output_type": "execute_result"
    }
   ],
   "execution_count": 40
  },
  {
   "metadata": {
    "ExecuteTime": {
     "end_time": "2024-09-03T11:45:13.643776Z",
     "start_time": "2024-09-03T11:45:13.635771Z"
    }
   },
   "cell_type": "code",
   "source": "boys[['age', 'bmi']]",
   "id": "399f27c6d9888c0f",
   "outputs": [
    {
     "data": {
      "text/plain": [
       "        age    bmi\n",
       "3     0.035  14.54\n",
       "4     0.038  11.77\n",
       "18    0.057  12.56\n",
       "23    0.060  14.37\n",
       "28    0.062  15.21\n",
       "...     ...    ...\n",
       "2000  1.973    NaN\n",
       "2008  1.979  15.27\n",
       "2009  1.979    NaN\n",
       "2018  1.990    NaN\n",
       "2020  1.993  15.92\n",
       "\n",
       "[216 rows x 2 columns]"
      ],
      "text/html": [
       "<div>\n",
       "<style scoped>\n",
       "    .dataframe tbody tr th:only-of-type {\n",
       "        vertical-align: middle;\n",
       "    }\n",
       "\n",
       "    .dataframe tbody tr th {\n",
       "        vertical-align: top;\n",
       "    }\n",
       "\n",
       "    .dataframe thead th {\n",
       "        text-align: right;\n",
       "    }\n",
       "</style>\n",
       "<table border=\"1\" class=\"dataframe\">\n",
       "  <thead>\n",
       "    <tr style=\"text-align: right;\">\n",
       "      <th></th>\n",
       "      <th>age</th>\n",
       "      <th>bmi</th>\n",
       "    </tr>\n",
       "  </thead>\n",
       "  <tbody>\n",
       "    <tr>\n",
       "      <th>3</th>\n",
       "      <td>0.035</td>\n",
       "      <td>14.54</td>\n",
       "    </tr>\n",
       "    <tr>\n",
       "      <th>4</th>\n",
       "      <td>0.038</td>\n",
       "      <td>11.77</td>\n",
       "    </tr>\n",
       "    <tr>\n",
       "      <th>18</th>\n",
       "      <td>0.057</td>\n",
       "      <td>12.56</td>\n",
       "    </tr>\n",
       "    <tr>\n",
       "      <th>23</th>\n",
       "      <td>0.060</td>\n",
       "      <td>14.37</td>\n",
       "    </tr>\n",
       "    <tr>\n",
       "      <th>28</th>\n",
       "      <td>0.062</td>\n",
       "      <td>15.21</td>\n",
       "    </tr>\n",
       "    <tr>\n",
       "      <th>...</th>\n",
       "      <td>...</td>\n",
       "      <td>...</td>\n",
       "    </tr>\n",
       "    <tr>\n",
       "      <th>2000</th>\n",
       "      <td>1.973</td>\n",
       "      <td>NaN</td>\n",
       "    </tr>\n",
       "    <tr>\n",
       "      <th>2008</th>\n",
       "      <td>1.979</td>\n",
       "      <td>15.27</td>\n",
       "    </tr>\n",
       "    <tr>\n",
       "      <th>2009</th>\n",
       "      <td>1.979</td>\n",
       "      <td>NaN</td>\n",
       "    </tr>\n",
       "    <tr>\n",
       "      <th>2018</th>\n",
       "      <td>1.990</td>\n",
       "      <td>NaN</td>\n",
       "    </tr>\n",
       "    <tr>\n",
       "      <th>2020</th>\n",
       "      <td>1.993</td>\n",
       "      <td>15.92</td>\n",
       "    </tr>\n",
       "  </tbody>\n",
       "</table>\n",
       "<p>216 rows × 2 columns</p>\n",
       "</div>"
      ]
     },
     "execution_count": 41,
     "metadata": {},
     "output_type": "execute_result"
    }
   ],
   "execution_count": 41
  },
  {
   "metadata": {
    "ExecuteTime": {
     "end_time": "2024-09-03T11:32:10.559839Z",
     "start_time": "2024-09-03T11:32:10.548208Z"
    }
   },
   "cell_type": "code",
   "source": "boys = pd.read_csv(\"boys.csv\", index_col=0, header=0)",
   "id": "5fbfb643236c7e93",
   "outputs": [],
   "execution_count": 8
  },
  {
   "metadata": {
    "ExecuteTime": {
     "end_time": "2024-09-03T11:32:11.824508Z",
     "start_time": "2024-09-03T11:32:11.818106Z"
    }
   },
   "cell_type": "code",
   "source": "boys.isna().sum()",
   "id": "23e83a1b3b0936b8",
   "outputs": [
    {
     "data": {
      "text/plain": [
       "age      0\n",
       "hgt     20\n",
       "wgt      4\n",
       "bmi     21\n",
       "hc      46\n",
       "gen    503\n",
       "phb    503\n",
       "tv     522\n",
       "reg      3\n",
       "dtype: int64"
      ]
     },
     "execution_count": 9,
     "metadata": {},
     "output_type": "execute_result"
    }
   ],
   "execution_count": 9
  },
  {
   "metadata": {
    "ExecuteTime": {
     "end_time": "2024-09-03T11:32:13.661842Z",
     "start_time": "2024-09-03T11:32:13.648868Z"
    }
   },
   "cell_type": "code",
   "source": "boys[['bmi', 'age']]",
   "id": "6f81f3b10d88b385",
   "outputs": [
    {
     "data": {
      "text/plain": [
       "        bmi     age\n",
       "3     14.54   0.035\n",
       "4     11.77   0.038\n",
       "18    12.56   0.057\n",
       "23    14.37   0.060\n",
       "28    15.21   0.062\n",
       "...     ...     ...\n",
       "7418  20.48  20.429\n",
       "7444  24.60  20.761\n",
       "7447  20.13  20.780\n",
       "7451  21.83  20.813\n",
       "7475  23.14  21.177\n",
       "\n",
       "[748 rows x 2 columns]"
      ],
      "text/html": [
       "<div>\n",
       "<style scoped>\n",
       "    .dataframe tbody tr th:only-of-type {\n",
       "        vertical-align: middle;\n",
       "    }\n",
       "\n",
       "    .dataframe tbody tr th {\n",
       "        vertical-align: top;\n",
       "    }\n",
       "\n",
       "    .dataframe thead th {\n",
       "        text-align: right;\n",
       "    }\n",
       "</style>\n",
       "<table border=\"1\" class=\"dataframe\">\n",
       "  <thead>\n",
       "    <tr style=\"text-align: right;\">\n",
       "      <th></th>\n",
       "      <th>bmi</th>\n",
       "      <th>age</th>\n",
       "    </tr>\n",
       "  </thead>\n",
       "  <tbody>\n",
       "    <tr>\n",
       "      <th>3</th>\n",
       "      <td>14.54</td>\n",
       "      <td>0.035</td>\n",
       "    </tr>\n",
       "    <tr>\n",
       "      <th>4</th>\n",
       "      <td>11.77</td>\n",
       "      <td>0.038</td>\n",
       "    </tr>\n",
       "    <tr>\n",
       "      <th>18</th>\n",
       "      <td>12.56</td>\n",
       "      <td>0.057</td>\n",
       "    </tr>\n",
       "    <tr>\n",
       "      <th>23</th>\n",
       "      <td>14.37</td>\n",
       "      <td>0.060</td>\n",
       "    </tr>\n",
       "    <tr>\n",
       "      <th>28</th>\n",
       "      <td>15.21</td>\n",
       "      <td>0.062</td>\n",
       "    </tr>\n",
       "    <tr>\n",
       "      <th>...</th>\n",
       "      <td>...</td>\n",
       "      <td>...</td>\n",
       "    </tr>\n",
       "    <tr>\n",
       "      <th>7418</th>\n",
       "      <td>20.48</td>\n",
       "      <td>20.429</td>\n",
       "    </tr>\n",
       "    <tr>\n",
       "      <th>7444</th>\n",
       "      <td>24.60</td>\n",
       "      <td>20.761</td>\n",
       "    </tr>\n",
       "    <tr>\n",
       "      <th>7447</th>\n",
       "      <td>20.13</td>\n",
       "      <td>20.780</td>\n",
       "    </tr>\n",
       "    <tr>\n",
       "      <th>7451</th>\n",
       "      <td>21.83</td>\n",
       "      <td>20.813</td>\n",
       "    </tr>\n",
       "    <tr>\n",
       "      <th>7475</th>\n",
       "      <td>23.14</td>\n",
       "      <td>21.177</td>\n",
       "    </tr>\n",
       "  </tbody>\n",
       "</table>\n",
       "<p>748 rows × 2 columns</p>\n",
       "</div>"
      ]
     },
     "execution_count": 10,
     "metadata": {},
     "output_type": "execute_result"
    }
   ],
   "execution_count": 10
  },
  {
   "metadata": {
    "ExecuteTime": {
     "end_time": "2024-09-03T11:32:15.017755Z",
     "start_time": "2024-09-03T11:32:15.008880Z"
    }
   },
   "cell_type": "code",
   "source": "imputed_dframe, imputed_values = pmm(boys[['bmi', 'age']], target_column='bmi')",
   "id": "fc49ca7132581f81",
   "outputs": [],
   "execution_count": 11
  },
  {
   "metadata": {
    "ExecuteTime": {
     "end_time": "2024-09-03T11:32:19.680850Z",
     "start_time": "2024-09-03T11:32:19.674785Z"
    }
   },
   "cell_type": "code",
   "source": "print(imputed_dframe)",
   "id": "c95e016fc375e50e",
   "outputs": [
    {
     "name": "stdout",
     "output_type": "stream",
     "text": [
      "        bmi     age\n",
      "3     14.54   0.035\n",
      "4     11.77   0.038\n",
      "18    12.56   0.057\n",
      "23    14.37   0.060\n",
      "28    15.21   0.062\n",
      "...     ...     ...\n",
      "7418  20.48  20.429\n",
      "7444  24.60  20.761\n",
      "7447  20.13  20.780\n",
      "7451  21.83  20.813\n",
      "7475  23.14  21.177\n",
      "\n",
      "[748 rows x 2 columns]\n"
     ]
    }
   ],
   "execution_count": 12
  },
  {
   "metadata": {
    "ExecuteTime": {
     "end_time": "2024-09-03T11:32:23.665687Z",
     "start_time": "2024-09-03T11:32:23.661086Z"
    }
   },
   "cell_type": "code",
   "source": "print(imputed_values)",
   "id": "f8a7a6ddbba16a9",
   "outputs": [
    {
     "name": "stdout",
     "output_type": "stream",
     "text": [
      "103     14.49\n",
      "366     14.84\n",
      "1617    16.44\n",
      "1632    18.05\n",
      "1687    16.69\n",
      "1739    15.01\n",
      "1792    17.37\n",
      "1805    17.37\n",
      "1916    15.14\n",
      "1927    15.14\n",
      "1940    15.14\n",
      "1969    17.26\n",
      "1979    17.04\n",
      "1990    17.04\n",
      "1991    15.27\n",
      "2000    15.92\n",
      "2009    14.75\n",
      "2018    14.75\n",
      "2984    16.11\n",
      "4268    16.78\n",
      "7192    20.67\n",
      "dtype: float64\n"
     ]
    }
   ],
   "execution_count": 13
  },
  {
   "metadata": {
    "ExecuteTime": {
     "end_time": "2024-09-03T11:31:41.036600Z",
     "start_time": "2024-09-03T11:31:40.266113Z"
    }
   },
   "cell_type": "code",
   "source": [
    "import pandas as pd\n",
    "import numpy as np\n",
    "from pmm import pmm\n",
    "data = {\n",
    "        'A': [1, 2, 3, 4, 5],\n",
    "        'B': [5, 6, 7, 8, 9],\n",
    "        'C': [np.nan, 2, 3, 4, 5]\n",
    "    }\n",
    "df = pd.DataFrame(data)\n",
    "\n",
    "    # Impute missing values in column 'C' with 2 donors\n",
    "imputed_df, imputed_values = pmm(df, 'C', donors=4)"
   ],
   "id": "2c78f41d3a053f38",
   "outputs": [],
   "execution_count": 4
  },
  {
   "metadata": {
    "ExecuteTime": {
     "end_time": "2024-09-03T11:32:04.253996Z",
     "start_time": "2024-09-03T11:32:04.250124Z"
    }
   },
   "cell_type": "code",
   "source": "imputed_values",
   "id": "ea10a09874e236dc",
   "outputs": [
    {
     "data": {
      "text/plain": [
       "0    2.0\n",
       "dtype: float64"
      ]
     },
     "execution_count": 6,
     "metadata": {},
     "output_type": "execute_result"
    }
   ],
   "execution_count": 6
  },
  {
   "metadata": {},
   "cell_type": "code",
   "outputs": [],
   "execution_count": null,
   "source": "",
   "id": "9291baa09922c16d"
  },
  {
   "metadata": {
    "ExecuteTime": {
     "end_time": "2024-09-03T11:16:44.317206Z",
     "start_time": "2024-09-03T11:16:44.312940Z"
    }
   },
   "cell_type": "code",
   "source": "len(imputed_values)",
   "id": "1784c1b47ea4bf23",
   "outputs": [
    {
     "data": {
      "text/plain": [
       "3"
      ]
     },
     "execution_count": 88,
     "metadata": {},
     "output_type": "execute_result"
    }
   ],
   "execution_count": 88
  },
  {
   "metadata": {
    "ExecuteTime": {
     "end_time": "2024-09-03T11:05:13.648643Z",
     "start_time": "2024-09-03T11:05:13.645576Z"
    }
   },
   "cell_type": "code",
   "source": "imputed_values",
   "id": "f1965944034b59dc",
   "outputs": [
    {
     "data": {
      "text/plain": [
       "'age'"
      ]
     },
     "execution_count": 79,
     "metadata": {},
     "output_type": "execute_result"
    }
   ],
   "execution_count": 79
  },
  {
   "metadata": {},
   "cell_type": "code",
   "outputs": [],
   "execution_count": null,
   "source": "",
   "id": "f57b159f5aff9c4b"
  },
  {
   "metadata": {},
   "cell_type": "code",
   "outputs": [],
   "execution_count": null,
   "source": "",
   "id": "f478cb2f0cac4861"
  },
  {
   "metadata": {},
   "cell_type": "code",
   "outputs": [],
   "execution_count": null,
   "source": "",
   "id": "5e5c8441abf2cb4e"
  },
  {
   "metadata": {},
   "cell_type": "code",
   "outputs": [],
   "execution_count": null,
   "source": "",
   "id": "a9d3274175a4d7f0"
  },
  {
   "metadata": {
    "ExecuteTime": {
     "end_time": "2024-08-17T12:36:10.325715Z",
     "start_time": "2024-08-17T12:36:10.303537Z"
    }
   },
   "cell_type": "code",
   "source": [
    "# Load Boston Housing dataset\n",
    "diabetes_data = datasets.load_diabetes(as_frame=True)"
   ],
   "id": "b7ab162ac068e446",
   "outputs": [],
   "execution_count": 4
  },
  {
   "metadata": {
    "ExecuteTime": {
     "end_time": "2024-08-17T12:36:10.341742Z",
     "start_time": "2024-08-17T12:36:10.328182Z"
    }
   },
   "cell_type": "code",
   "source": "type(diabetes_data)",
   "id": "cadac5a73ebd46fe",
   "outputs": [
    {
     "data": {
      "text/plain": [
       "sklearn.utils.Bunch"
      ]
     },
     "execution_count": 5,
     "metadata": {},
     "output_type": "execute_result"
    }
   ],
   "execution_count": 5
  },
  {
   "metadata": {
    "ExecuteTime": {
     "end_time": "2024-08-17T12:36:10.344976Z",
     "start_time": "2024-08-17T12:36:10.342801Z"
    }
   },
   "cell_type": "code",
   "source": [
    "data = diabetes_data[\"data\"]\n",
    "feature_names = diabetes_data[\"feature_names\"]"
   ],
   "id": "843252998d46d996",
   "outputs": [],
   "execution_count": 6
  },
  {
   "metadata": {
    "ExecuteTime": {
     "end_time": "2024-08-17T12:36:10.352455Z",
     "start_time": "2024-08-17T12:36:10.346286Z"
    }
   },
   "cell_type": "code",
   "source": "data.isnull().sum()",
   "id": "87211cb597b2c857",
   "outputs": [
    {
     "data": {
      "text/plain": [
       "age    0\n",
       "sex    0\n",
       "bmi    0\n",
       "bp     0\n",
       "s1     0\n",
       "s2     0\n",
       "s3     0\n",
       "s4     0\n",
       "s5     0\n",
       "s6     0\n",
       "dtype: int64"
      ]
     },
     "execution_count": 7,
     "metadata": {},
     "output_type": "execute_result"
    }
   ],
   "execution_count": 7
  },
  {
   "metadata": {},
   "cell_type": "markdown",
   "source": [
    "    Algorithm:\n",
    "    1. Estimate a linear regression where:\n",
    "        1. Y is variable to imput\n",
    "        2. X is the rest of dataset\n",
    "    2. We have b hat. Now we need b star\n",
    "    3. Draw randomly from posterior predictive distribution and produce b star\n",
    "    4. Draw randomly (using function) from Multivariate Normal Distribution where:\n",
    "        1. Mean is b hat\n",
    "        2. Variance is sigma squared (variance of residuals) multiplied by variance-covariance matrix of b hat\n",
    "    5. Calculatye predicted values for observed and missing Y:\n",
    "        1. Use b hat for observed Y\n",
    "        2. Use b star for missing Y\n",
    "    6. For each case where Y is missing, find 3 closest predicted values where Y is observed (from Y we predicted for observed cases)\n",
    "    7. Draw randomly one of these 3 close cases and Impute missing Yi with the observed value of the close case\n",
    "    Suggestions: https://statisticsglobe.com/predictive-mean-matching-imputation-method/"
   ],
   "id": "90d3ad3acbca16d5"
  },
  {
   "metadata": {
    "ExecuteTime": {
     "end_time": "2024-08-17T13:32:01.370093Z",
     "start_time": "2024-08-17T13:32:01.365701Z"
    }
   },
   "cell_type": "code",
   "source": "from sklearn.linear_model import LinearRegression",
   "id": "38973b01909d64ba",
   "outputs": [],
   "execution_count": 74
  },
  {
   "metadata": {
    "ExecuteTime": {
     "end_time": "2024-08-17T13:32:02.382688Z",
     "start_time": "2024-08-17T13:32:02.377972Z"
    }
   },
   "cell_type": "code",
   "source": [
    "# y = 1 * x_0 + 2 * x_1 + 3\n",
    "X = np.array([[1, 1], [1, 2], [2, 2], [2, 3]])\n",
    "# y = 1 * x_0 + 2 * x_1 + 3\n",
    "y = np.dot(X, np.array([1, 2])) + 3\n",
    "print(y)"
   ],
   "id": "ecbd4e361bd0e48",
   "outputs": [
    {
     "name": "stdout",
     "output_type": "stream",
     "text": [
      "[ 6  8  9 11]\n"
     ]
    }
   ],
   "execution_count": 75
  },
  {
   "metadata": {
    "ExecuteTime": {
     "end_time": "2024-08-17T13:32:04.285928Z",
     "start_time": "2024-08-17T13:32:04.277546Z"
    }
   },
   "cell_type": "code",
   "source": [
    "reg = LinearRegression().fit(X, y)\n",
    "reg.score(X, y)"
   ],
   "id": "e6307a852ee257d4",
   "outputs": [
    {
     "data": {
      "text/plain": [
       "1.0"
      ]
     },
     "execution_count": 76,
     "metadata": {},
     "output_type": "execute_result"
    }
   ],
   "execution_count": 76
  },
  {
   "metadata": {
    "ExecuteTime": {
     "end_time": "2024-08-17T13:32:06.411508Z",
     "start_time": "2024-08-17T13:32:06.405404Z"
    }
   },
   "cell_type": "code",
   "source": "reg.coef_",
   "id": "249d2b931769eb67",
   "outputs": [
    {
     "data": {
      "text/plain": [
       "array([1., 2.])"
      ]
     },
     "execution_count": 77,
     "metadata": {},
     "output_type": "execute_result"
    }
   ],
   "execution_count": 77
  },
  {
   "metadata": {
    "ExecuteTime": {
     "end_time": "2024-08-17T13:32:07.849058Z",
     "start_time": "2024-08-17T13:32:07.843130Z"
    }
   },
   "cell_type": "code",
   "source": "reg.intercept_",
   "id": "54a0588450aca757",
   "outputs": [
    {
     "data": {
      "text/plain": [
       "3.000000000000001"
      ]
     },
     "execution_count": 78,
     "metadata": {},
     "output_type": "execute_result"
    }
   ],
   "execution_count": 78
  },
  {
   "metadata": {
    "ExecuteTime": {
     "end_time": "2024-08-17T13:32:09.290604Z",
     "start_time": "2024-08-17T13:32:09.286515Z"
    }
   },
   "cell_type": "code",
   "source": "b_hat = [reg.intercept_] + list(reg.coef_)",
   "id": "dd2aa1386ca41084",
   "outputs": [],
   "execution_count": 79
  },
  {
   "metadata": {
    "ExecuteTime": {
     "end_time": "2024-08-17T13:32:10.455080Z",
     "start_time": "2024-08-17T13:32:10.449401Z"
    }
   },
   "cell_type": "code",
   "source": "b_hat",
   "id": "1d4068e23f9c3196",
   "outputs": [
    {
     "data": {
      "text/plain": [
       "[3.000000000000001, 1.0000000000000002, 1.9999999999999993]"
      ]
     },
     "execution_count": 80,
     "metadata": {},
     "output_type": "execute_result"
    }
   ],
   "execution_count": 80
  },
  {
   "metadata": {
    "ExecuteTime": {
     "end_time": "2024-08-17T13:32:15.353360Z",
     "start_time": "2024-08-17T13:32:15.347854Z"
    }
   },
   "cell_type": "code",
   "source": [
    "y_true = y\n",
    "y_pred = reg.predict(X)\n",
    "print(y_pred, y_true)"
   ],
   "id": "bb8b1ea077ec54f0",
   "outputs": [
    {
     "name": "stdout",
     "output_type": "stream",
     "text": [
      "[ 6.  8.  9. 11.] [ 6  8  9 11]\n"
     ]
    }
   ],
   "execution_count": 81
  },
  {
   "metadata": {
    "ExecuteTime": {
     "end_time": "2024-08-17T13:34:00.926879Z",
     "start_time": "2024-08-17T13:34:00.922036Z"
    }
   },
   "cell_type": "code",
   "source": [
    "mean = b_hat\n",
    "variance_residuals = np.var((y_true - y_pred))\n",
    "var_covar = np.cov([b_hat, b_hat], rowvar=True)"
   ],
   "id": "e8b66780ace7aaec",
   "outputs": [],
   "execution_count": 88
  },
  {
   "metadata": {
    "ExecuteTime": {
     "end_time": "2024-08-17T13:33:37.767878Z",
     "start_time": "2024-08-17T13:33:37.764173Z"
    }
   },
   "cell_type": "code",
   "source": "print(var_covar)",
   "id": "43704ed7604015a0",
   "outputs": [
    {
     "name": "stdout",
     "output_type": "stream",
     "text": [
      "[[1. 1.]\n",
      " [1. 1.]]\n"
     ]
    }
   ],
   "execution_count": 87
  },
  {
   "metadata": {
    "ExecuteTime": {
     "end_time": "2024-08-17T13:23:49.517229Z",
     "start_time": "2024-08-17T13:23:49.511486Z"
    }
   },
   "cell_type": "code",
   "source": [
    "variance_residuals = np.var((y_true - y_pred))\n",
    "var_covar = np.cov([b_hat, b_hat], rowvar=True)\n",
    "total_variance = variance_residuals * var_covar"
   ],
   "id": "9080b2a95f1939ba",
   "outputs": [],
   "execution_count": 59
  },
  {
   "metadata": {
    "ExecuteTime": {
     "end_time": "2024-08-17T13:23:51.058501Z",
     "start_time": "2024-08-17T13:23:51.053325Z"
    }
   },
   "cell_type": "code",
   "source": "total_variance",
   "id": "aad4a04caf67ecfb",
   "outputs": [
    {
     "data": {
      "text/plain": [
       "array([[0., 0.],\n",
       "       [0., 0.]])"
      ]
     },
     "execution_count": 60,
     "metadata": {},
     "output_type": "execute_result"
    }
   ],
   "execution_count": 60
  },
  {
   "metadata": {
    "ExecuteTime": {
     "end_time": "2024-08-17T13:06:13.865896Z",
     "start_time": "2024-08-17T13:06:13.859836Z"
    }
   },
   "cell_type": "code",
   "source": "b_hat",
   "id": "e7eea68d55444ca5",
   "outputs": [
    {
     "data": {
      "text/plain": [
       "[1, 2, 3]"
      ]
     },
     "execution_count": 32,
     "metadata": {},
     "output_type": "execute_result"
    }
   ],
   "execution_count": 32
  },
  {
   "metadata": {
    "ExecuteTime": {
     "end_time": "2024-08-17T13:12:49.340Z",
     "start_time": "2024-08-17T13:12:49.337060Z"
    }
   },
   "cell_type": "code",
   "source": "print([b_hat,b_hat])",
   "id": "24b799b628c68ce2",
   "outputs": [
    {
     "name": "stdout",
     "output_type": "stream",
     "text": [
      "[[[1, 2, 3]], [[1, 2, 3]]]\n"
     ]
    }
   ],
   "execution_count": 37
  },
  {
   "metadata": {
    "ExecuteTime": {
     "end_time": "2024-08-17T13:12:58.077833Z",
     "start_time": "2024-08-17T13:12:58.074589Z"
    }
   },
   "cell_type": "code",
   "source": "(b_hat, b_hat)",
   "id": "74b0987ebf058e66",
   "outputs": [
    {
     "data": {
      "text/plain": [
       "([[1, 2, 3]], [[1, 2, 3]])"
      ]
     },
     "execution_count": 38,
     "metadata": {},
     "output_type": "execute_result"
    }
   ],
   "execution_count": 38
  },
  {
   "metadata": {
    "ExecuteTime": {
     "end_time": "2024-08-17T13:14:13.935539Z",
     "start_time": "2024-08-17T13:14:13.932773Z"
    }
   },
   "cell_type": "code",
   "source": "print(zip(b_hat, b_hat))",
   "id": "6dd548fba091136b",
   "outputs": [
    {
     "name": "stdout",
     "output_type": "stream",
     "text": [
      "<zip object at 0x7f8040ab6fa0>\n"
     ]
    }
   ],
   "execution_count": 41
  },
  {
   "metadata": {
    "ExecuteTime": {
     "end_time": "2024-08-17T13:15:08.541190Z",
     "start_time": "2024-08-17T13:15:08.537352Z"
    }
   },
   "cell_type": "code",
   "source": "np.array((b_hat, b_hat))",
   "id": "430723c30f4921e7",
   "outputs": [
    {
     "data": {
      "text/plain": [
       "array([[[1, 2, 3]],\n",
       "\n",
       "       [[1, 2, 3]]])"
      ]
     },
     "execution_count": 42,
     "metadata": {},
     "output_type": "execute_result"
    }
   ],
   "execution_count": 42
  },
  {
   "metadata": {
    "ExecuteTime": {
     "end_time": "2024-08-17T13:15:53.728481Z",
     "start_time": "2024-08-17T13:15:53.724327Z"
    }
   },
   "cell_type": "code",
   "source": "b_hat[0]",
   "id": "525ee09c44b6b159",
   "outputs": [
    {
     "data": {
      "text/plain": [
       "[1, 2, 3]"
      ]
     },
     "execution_count": 44,
     "metadata": {},
     "output_type": "execute_result"
    }
   ],
   "execution_count": 44
  },
  {
   "metadata": {
    "ExecuteTime": {
     "end_time": "2024-08-17T13:24:25.056468Z",
     "start_time": "2024-08-17T13:24:25.053040Z"
    }
   },
   "cell_type": "code",
   "source": "print([b_hat, b_hat])",
   "id": "dc0e9fefc3703155",
   "outputs": [
    {
     "name": "stdout",
     "output_type": "stream",
     "text": [
      "[[3.000000000000001, 1.0000000000000002, 1.9999999999999993], [3.000000000000001, 1.0000000000000002, 1.9999999999999993]]\n"
     ]
    }
   ],
   "execution_count": 69
  },
  {
   "metadata": {
    "ExecuteTime": {
     "end_time": "2024-08-17T13:25:23.400863Z",
     "start_time": "2024-08-17T13:25:23.398214Z"
    }
   },
   "cell_type": "code",
   "source": "print([b_hat, b_hat])",
   "id": "f4da0c675d07585",
   "outputs": [
    {
     "name": "stdout",
     "output_type": "stream",
     "text": [
      "[[3.000000000000001, 1.0000000000000002, 1.9999999999999993], [3.000000000000001, 1.0000000000000002, 1.9999999999999993]]\n"
     ]
    }
   ],
   "execution_count": 71
  },
  {
   "metadata": {
    "ExecuteTime": {
     "end_time": "2024-08-17T13:25:56.453517Z",
     "start_time": "2024-08-17T13:25:56.449894Z"
    }
   },
   "cell_type": "code",
   "source": "np.var(([b_hat, b_hat]) )",
   "id": "d3b6c047b7134203",
   "outputs": [
    {
     "data": {
      "text/plain": [
       "0.6666666666666671"
      ]
     },
     "execution_count": 73,
     "metadata": {},
     "output_type": "execute_result"
    }
   ],
   "execution_count": 73
  },
  {
   "metadata": {
    "ExecuteTime": {
     "end_time": "2024-08-17T13:59:19.120396Z",
     "start_time": "2024-08-17T13:59:19.104042Z"
    }
   },
   "cell_type": "code",
   "source": "np.cov(np.array([b_hat]).T)",
   "id": "1556f1e8f6cd247f",
   "outputs": [
    {
     "name": "stderr",
     "output_type": "stream",
     "text": [
      "/Library/Frameworks/Python.framework/Versions/3.7/lib/python3.7/site-packages/ipykernel_launcher.py:1: RuntimeWarning: Degrees of freedom <= 0 for slice\n",
      "  \"\"\"Entry point for launching an IPython kernel.\n",
      "/Library/Frameworks/Python.framework/Versions/3.7/lib/python3.7/site-packages/numpy/lib/function_base.py:2542: RuntimeWarning: divide by zero encountered in true_divide\n",
      "  c *= np.true_divide(1, fact)\n",
      "/Library/Frameworks/Python.framework/Versions/3.7/lib/python3.7/site-packages/numpy/lib/function_base.py:2542: RuntimeWarning: invalid value encountered in multiply\n",
      "  c *= np.true_divide(1, fact)\n"
     ]
    },
    {
     "data": {
      "text/plain": [
       "array([[nan, nan, nan],\n",
       "       [nan, nan, nan],\n",
       "       [nan, nan, nan]])"
      ]
     },
     "execution_count": 99,
     "metadata": {},
     "output_type": "execute_result"
    }
   ],
   "execution_count": 99
  },
  {
   "metadata": {},
   "cell_type": "code",
   "outputs": [],
   "execution_count": null,
   "source": "",
   "id": "d44ebee998372c88"
  }
 ],
 "metadata": {
  "kernelspec": {
   "display_name": "Python 3",
   "language": "python",
   "name": "python3"
  },
  "language_info": {
   "codemirror_mode": {
    "name": "ipython",
    "version": 2
   },
   "file_extension": ".py",
   "mimetype": "text/x-python",
   "name": "python",
   "nbconvert_exporter": "python",
   "pygments_lexer": "ipython2",
   "version": "2.7.6"
  }
 },
 "nbformat": 4,
 "nbformat_minor": 5
}
