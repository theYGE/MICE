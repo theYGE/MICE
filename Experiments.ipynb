{
 "cells": [
  {
   "cell_type": "code",
   "id": "initial_id",
   "metadata": {
    "collapsed": true,
    "ExecuteTime": {
     "end_time": "2024-08-11T13:18:14.530988Z",
     "start_time": "2024-08-11T13:18:14.523469Z"
    }
   },
   "source": [
    "import numpy as np\n",
    "import pandas as pd"
   ],
   "outputs": [],
   "execution_count": 2
  },
  {
   "metadata": {
    "ExecuteTime": {
     "end_time": "2024-08-11T13:20:25.720655Z",
     "start_time": "2024-08-11T13:20:13.829124Z"
    }
   },
   "cell_type": "code",
   "source": "!pip3 install scikit-learn",
   "id": "6c752a4c015448da",
   "outputs": [
    {
     "name": "stdout",
     "output_type": "stream",
     "text": [
      "Collecting scikit-learn\r\n",
      "  Downloading scikit_learn-1.0.2-cp37-cp37m-macosx_10_13_x86_64.whl (7.8 MB)\r\n",
      "\u001B[K     |████████████████████████████████| 7.8 MB 504 kB/s eta 0:00:01\r\n",
      "\u001B[?25hRequirement already satisfied: scipy>=1.1.0 in /Library/Frameworks/Python.framework/Versions/3.7/lib/python3.7/site-packages (from scikit-learn) (1.3.2)\r\n",
      "Requirement already satisfied: numpy>=1.14.6 in /Library/Frameworks/Python.framework/Versions/3.7/lib/python3.7/site-packages (from scikit-learn) (1.21.6)\r\n",
      "Collecting joblib>=0.11\r\n",
      "  Using cached joblib-1.3.2-py3-none-any.whl (302 kB)\r\n",
      "Collecting threadpoolctl>=2.0.0\r\n",
      "  Using cached threadpoolctl-3.1.0-py3-none-any.whl (14 kB)\r\n",
      "Installing collected packages: joblib, threadpoolctl, scikit-learn\r\n",
      "Successfully installed joblib-1.3.2 scikit-learn-1.0.2 threadpoolctl-3.1.0\r\n",
      "\u001B[33mWARNING: You are using pip version 20.1.1; however, version 24.0 is available.\r\n",
      "You should consider upgrading via the '/Library/Frameworks/Python.framework/Versions/3.7/bin/python3.7 -m pip install --upgrade pip' command.\u001B[0m\r\n"
     ]
    }
   ],
   "execution_count": 6
  },
  {
   "metadata": {
    "ExecuteTime": {
     "end_time": "2024-08-11T13:21:44.895901Z",
     "start_time": "2024-08-11T13:21:34.886230Z"
    }
   },
   "cell_type": "code",
   "source": "from sklearn import datasets",
   "id": "c4ca716270f8722e",
   "outputs": [],
   "execution_count": 9
  },
  {
   "metadata": {
    "ExecuteTime": {
     "end_time": "2024-08-11T13:28:49.641912Z",
     "start_time": "2024-08-11T13:28:49.627670Z"
    }
   },
   "cell_type": "code",
   "source": [
    "# Load Boston Housing dataset\n",
    "diabetes_data = datasets.load_diabetes(as_frame=True)"
   ],
   "id": "b7ab162ac068e446",
   "outputs": [],
   "execution_count": 24
  },
  {
   "metadata": {
    "ExecuteTime": {
     "end_time": "2024-08-11T13:28:56.021267Z",
     "start_time": "2024-08-11T13:28:56.016499Z"
    }
   },
   "cell_type": "code",
   "source": "type(diabetes_data)",
   "id": "cadac5a73ebd46fe",
   "outputs": [
    {
     "data": {
      "text/plain": [
       "sklearn.utils.Bunch"
      ]
     },
     "execution_count": 25,
     "metadata": {},
     "output_type": "execute_result"
    }
   ],
   "execution_count": 25
  },
  {
   "metadata": {
    "ExecuteTime": {
     "end_time": "2024-08-11T13:30:00.012420Z",
     "start_time": "2024-08-11T13:30:00.009147Z"
    }
   },
   "cell_type": "code",
   "source": [
    "data = diabetes_data[\"data\"]\n",
    "feature_names = diabetes_data[\"feature_names\"]"
   ],
   "id": "843252998d46d996",
   "outputs": [],
   "execution_count": 26
  },
  {
   "metadata": {
    "ExecuteTime": {
     "end_time": "2024-08-11T13:31:19.393704Z",
     "start_time": "2024-08-11T13:31:19.380407Z"
    }
   },
   "cell_type": "code",
   "source": "data.isnull().sum()",
   "id": "87211cb597b2c857",
   "outputs": [
    {
     "data": {
      "text/plain": [
       "age    0\n",
       "sex    0\n",
       "bmi    0\n",
       "bp     0\n",
       "s1     0\n",
       "s2     0\n",
       "s3     0\n",
       "s4     0\n",
       "s5     0\n",
       "s6     0\n",
       "dtype: int64"
      ]
     },
     "execution_count": 28,
     "metadata": {},
     "output_type": "execute_result"
    }
   ],
   "execution_count": 28
  },
  {
   "metadata": {
    "ExecuteTime": {
     "end_time": "2024-08-11T13:16:44.004637Z",
     "start_time": "2024-08-11T13:16:44.002432Z"
    }
   },
   "cell_type": "code",
   "source": "",
   "id": "d94ac28b87f1f679",
   "outputs": [],
   "execution_count": null
  },
  {
   "metadata": {
    "ExecuteTime": {
     "end_time": "2024-08-11T13:16:44.026075Z",
     "start_time": "2024-08-11T13:16:44.024098Z"
    }
   },
   "cell_type": "code",
   "source": "",
   "id": "38973b01909d64ba",
   "outputs": [],
   "execution_count": null
  },
  {
   "metadata": {
    "ExecuteTime": {
     "end_time": "2024-08-11T13:16:44.043086Z",
     "start_time": "2024-08-11T13:16:44.041053Z"
    }
   },
   "cell_type": "code",
   "source": "",
   "id": "ecbd4e361bd0e48",
   "outputs": [],
   "execution_count": null
  },
  {
   "metadata": {
    "ExecuteTime": {
     "end_time": "2024-08-11T13:16:44.050650Z",
     "start_time": "2024-08-11T13:16:44.048730Z"
    }
   },
   "cell_type": "code",
   "source": "",
   "id": "e6307a852ee257d4",
   "outputs": [],
   "execution_count": null
  },
  {
   "metadata": {
    "ExecuteTime": {
     "end_time": "2024-08-11T13:16:44.054475Z",
     "start_time": "2024-08-11T13:16:44.052538Z"
    }
   },
   "cell_type": "code",
   "source": "",
   "id": "249d2b931769eb67",
   "outputs": [],
   "execution_count": null
  },
  {
   "metadata": {
    "ExecuteTime": {
     "end_time": "2024-08-11T13:16:44.058067Z",
     "start_time": "2024-08-11T13:16:44.056501Z"
    }
   },
   "cell_type": "code",
   "source": "",
   "id": "54a0588450aca757",
   "outputs": [],
   "execution_count": null
  },
  {
   "metadata": {
    "ExecuteTime": {
     "end_time": "2024-08-11T13:16:44.061571Z",
     "start_time": "2024-08-11T13:16:44.059451Z"
    }
   },
   "cell_type": "code",
   "source": "",
   "id": "dd2aa1386ca41084",
   "outputs": [],
   "execution_count": null
  },
  {
   "metadata": {
    "ExecuteTime": {
     "end_time": "2024-08-11T13:16:44.065911Z",
     "start_time": "2024-08-11T13:16:44.064008Z"
    }
   },
   "cell_type": "code",
   "source": "",
   "id": "1d4068e23f9c3196",
   "outputs": [],
   "execution_count": null
  },
  {
   "metadata": {
    "ExecuteTime": {
     "end_time": "2024-08-11T13:16:44.069095Z",
     "start_time": "2024-08-11T13:16:44.066931Z"
    }
   },
   "cell_type": "code",
   "source": "",
   "id": "e8b66780ace7aaec",
   "outputs": [],
   "execution_count": null
  },
  {
   "metadata": {
    "ExecuteTime": {
     "end_time": "2024-08-11T13:16:44.072583Z",
     "start_time": "2024-08-11T13:16:44.070358Z"
    }
   },
   "cell_type": "code",
   "source": "",
   "id": "43704ed7604015a0",
   "outputs": [],
   "execution_count": null
  },
  {
   "metadata": {
    "ExecuteTime": {
     "end_time": "2024-08-11T13:16:44.076645Z",
     "start_time": "2024-08-11T13:16:44.074841Z"
    }
   },
   "cell_type": "code",
   "source": "",
   "id": "9080b2a95f1939ba",
   "outputs": [],
   "execution_count": null
  },
  {
   "metadata": {
    "ExecuteTime": {
     "end_time": "2024-08-11T13:16:44.098842Z",
     "start_time": "2024-08-11T13:16:44.096355Z"
    }
   },
   "cell_type": "code",
   "source": "",
   "id": "aad4a04caf67ecfb",
   "outputs": [],
   "execution_count": null
  },
  {
   "metadata": {},
   "cell_type": "code",
   "outputs": [],
   "execution_count": null,
   "source": "",
   "id": "e7eea68d55444ca5"
  }
 ],
 "metadata": {
  "kernelspec": {
   "display_name": "Python 3",
   "language": "python",
   "name": "python3"
  },
  "language_info": {
   "codemirror_mode": {
    "name": "ipython",
    "version": 2
   },
   "file_extension": ".py",
   "mimetype": "text/x-python",
   "name": "python",
   "nbconvert_exporter": "python",
   "pygments_lexer": "ipython2",
   "version": "2.7.6"
  }
 },
 "nbformat": 4,
 "nbformat_minor": 5
}
