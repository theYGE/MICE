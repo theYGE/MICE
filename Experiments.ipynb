{
 "cells": [
  {
   "cell_type": "code",
   "id": "initial_id",
   "metadata": {
    "collapsed": true,
    "ExecuteTime": {
     "end_time": "2024-08-17T12:36:05.601217Z",
     "start_time": "2024-08-17T12:36:04.815404Z"
    }
   },
   "source": [
    "import numpy as np\n",
    "import pandas as pd"
   ],
   "outputs": [],
   "execution_count": 1
  },
  {
   "metadata": {
    "ExecuteTime": {
     "end_time": "2024-08-17T12:36:09.681240Z",
     "start_time": "2024-08-17T12:36:05.602841Z"
    }
   },
   "cell_type": "code",
   "source": "!pip3 install scikit-learn",
   "id": "6c752a4c015448da",
   "outputs": [
    {
     "name": "stdout",
     "output_type": "stream",
     "text": [
      "Requirement already satisfied: scikit-learn in /Library/Frameworks/Python.framework/Versions/3.7/lib/python3.7/site-packages (1.0.2)\r\n",
      "Requirement already satisfied: scipy>=1.1.0 in /Library/Frameworks/Python.framework/Versions/3.7/lib/python3.7/site-packages (from scikit-learn) (1.3.2)\r\n",
      "Requirement already satisfied: joblib>=0.11 in /Library/Frameworks/Python.framework/Versions/3.7/lib/python3.7/site-packages (from scikit-learn) (1.3.2)\r\n",
      "Requirement already satisfied: threadpoolctl>=2.0.0 in /Library/Frameworks/Python.framework/Versions/3.7/lib/python3.7/site-packages (from scikit-learn) (3.1.0)\r\n",
      "Requirement already satisfied: numpy>=1.14.6 in /Library/Frameworks/Python.framework/Versions/3.7/lib/python3.7/site-packages (from scikit-learn) (1.21.6)\r\n",
      "\u001B[33mWARNING: You are using pip version 20.1.1; however, version 24.0 is available.\r\n",
      "You should consider upgrading via the '/Library/Frameworks/Python.framework/Versions/3.7/bin/python3.7 -m pip install --upgrade pip' command.\u001B[0m\r\n"
     ]
    }
   ],
   "execution_count": 2
  },
  {
   "metadata": {
    "ExecuteTime": {
     "end_time": "2024-08-17T12:36:10.302542Z",
     "start_time": "2024-08-17T12:36:09.683037Z"
    }
   },
   "cell_type": "code",
   "source": "from sklearn import datasets",
   "id": "c4ca716270f8722e",
   "outputs": [],
   "execution_count": 3
  },
  {
   "metadata": {
    "ExecuteTime": {
     "end_time": "2024-08-17T12:36:10.325715Z",
     "start_time": "2024-08-17T12:36:10.303537Z"
    }
   },
   "cell_type": "code",
   "source": [
    "# Load Boston Housing dataset\n",
    "diabetes_data = datasets.load_diabetes(as_frame=True)"
   ],
   "id": "b7ab162ac068e446",
   "outputs": [],
   "execution_count": 4
  },
  {
   "metadata": {
    "ExecuteTime": {
     "end_time": "2024-08-17T12:36:10.341742Z",
     "start_time": "2024-08-17T12:36:10.328182Z"
    }
   },
   "cell_type": "code",
   "source": "type(diabetes_data)",
   "id": "cadac5a73ebd46fe",
   "outputs": [
    {
     "data": {
      "text/plain": [
       "sklearn.utils.Bunch"
      ]
     },
     "execution_count": 5,
     "metadata": {},
     "output_type": "execute_result"
    }
   ],
   "execution_count": 5
  },
  {
   "metadata": {
    "ExecuteTime": {
     "end_time": "2024-08-17T12:36:10.344976Z",
     "start_time": "2024-08-17T12:36:10.342801Z"
    }
   },
   "cell_type": "code",
   "source": [
    "data = diabetes_data[\"data\"]\n",
    "feature_names = diabetes_data[\"feature_names\"]"
   ],
   "id": "843252998d46d996",
   "outputs": [],
   "execution_count": 6
  },
  {
   "metadata": {
    "ExecuteTime": {
     "end_time": "2024-08-17T12:36:10.352455Z",
     "start_time": "2024-08-17T12:36:10.346286Z"
    }
   },
   "cell_type": "code",
   "source": "data.isnull().sum()",
   "id": "87211cb597b2c857",
   "outputs": [
    {
     "data": {
      "text/plain": [
       "age    0\n",
       "sex    0\n",
       "bmi    0\n",
       "bp     0\n",
       "s1     0\n",
       "s2     0\n",
       "s3     0\n",
       "s4     0\n",
       "s5     0\n",
       "s6     0\n",
       "dtype: int64"
      ]
     },
     "execution_count": 7,
     "metadata": {},
     "output_type": "execute_result"
    }
   ],
   "execution_count": 7
  },
  {
   "metadata": {},
   "cell_type": "markdown",
   "source": [
    "    Algorithm:\n",
    "    1. Estimate a linear regression where:\n",
    "        1. Y is variable to imput\n",
    "        2. X is the rest of dataset\n",
    "    2. We have b hat. Now we need b star\n",
    "    3. Draw randomly from posterior predictive distribution and produce b star\n",
    "    4. Draw randomly (using function) from Multivariate Normal Distribution where:\n",
    "        1. Mean is b hat\n",
    "        2. Variance is sigma squared (variance of residuals) multiplied by variance-covariance matrix of b hat\n",
    "    5. Calculatye predicted values for observed and missing Y:\n",
    "        1. Use b hat for observed Y\n",
    "        2. Use b star for missing Y\n",
    "    6. For each case where Y is missing, find 3 closest predicted values where Y is observed (from Y we predicted for observed cases)\n",
    "    7. Draw randomly one of these 3 close cases and Impute missing Yi with the observed value of the close case\n",
    "    Suggestions: https://statisticsglobe.com/predictive-mean-matching-imputation-method/"
   ],
   "id": "90d3ad3acbca16d5"
  },
  {
   "metadata": {
    "ExecuteTime": {
     "end_time": "2024-08-17T13:32:01.370093Z",
     "start_time": "2024-08-17T13:32:01.365701Z"
    }
   },
   "cell_type": "code",
   "source": "from sklearn.linear_model import LinearRegression",
   "id": "38973b01909d64ba",
   "outputs": [],
   "execution_count": 74
  },
  {
   "metadata": {
    "ExecuteTime": {
     "end_time": "2024-08-17T13:32:02.382688Z",
     "start_time": "2024-08-17T13:32:02.377972Z"
    }
   },
   "cell_type": "code",
   "source": [
    "# y = 1 * x_0 + 2 * x_1 + 3\n",
    "X = np.array([[1, 1], [1, 2], [2, 2], [2, 3]])\n",
    "# y = 1 * x_0 + 2 * x_1 + 3\n",
    "y = np.dot(X, np.array([1, 2])) + 3\n",
    "print(y)"
   ],
   "id": "ecbd4e361bd0e48",
   "outputs": [
    {
     "name": "stdout",
     "output_type": "stream",
     "text": [
      "[ 6  8  9 11]\n"
     ]
    }
   ],
   "execution_count": 75
  },
  {
   "metadata": {
    "ExecuteTime": {
     "end_time": "2024-08-17T13:32:04.285928Z",
     "start_time": "2024-08-17T13:32:04.277546Z"
    }
   },
   "cell_type": "code",
   "source": [
    "reg = LinearRegression().fit(X, y)\n",
    "reg.score(X, y)"
   ],
   "id": "e6307a852ee257d4",
   "outputs": [
    {
     "data": {
      "text/plain": [
       "1.0"
      ]
     },
     "execution_count": 76,
     "metadata": {},
     "output_type": "execute_result"
    }
   ],
   "execution_count": 76
  },
  {
   "metadata": {
    "ExecuteTime": {
     "end_time": "2024-08-17T13:32:06.411508Z",
     "start_time": "2024-08-17T13:32:06.405404Z"
    }
   },
   "cell_type": "code",
   "source": "reg.coef_",
   "id": "249d2b931769eb67",
   "outputs": [
    {
     "data": {
      "text/plain": [
       "array([1., 2.])"
      ]
     },
     "execution_count": 77,
     "metadata": {},
     "output_type": "execute_result"
    }
   ],
   "execution_count": 77
  },
  {
   "metadata": {
    "ExecuteTime": {
     "end_time": "2024-08-17T13:32:07.849058Z",
     "start_time": "2024-08-17T13:32:07.843130Z"
    }
   },
   "cell_type": "code",
   "source": "reg.intercept_",
   "id": "54a0588450aca757",
   "outputs": [
    {
     "data": {
      "text/plain": [
       "3.000000000000001"
      ]
     },
     "execution_count": 78,
     "metadata": {},
     "output_type": "execute_result"
    }
   ],
   "execution_count": 78
  },
  {
   "metadata": {
    "ExecuteTime": {
     "end_time": "2024-08-17T13:32:09.290604Z",
     "start_time": "2024-08-17T13:32:09.286515Z"
    }
   },
   "cell_type": "code",
   "source": "b_hat = [reg.intercept_] + list(reg.coef_)",
   "id": "dd2aa1386ca41084",
   "outputs": [],
   "execution_count": 79
  },
  {
   "metadata": {
    "ExecuteTime": {
     "end_time": "2024-08-17T13:32:10.455080Z",
     "start_time": "2024-08-17T13:32:10.449401Z"
    }
   },
   "cell_type": "code",
   "source": "b_hat",
   "id": "1d4068e23f9c3196",
   "outputs": [
    {
     "data": {
      "text/plain": [
       "[3.000000000000001, 1.0000000000000002, 1.9999999999999993]"
      ]
     },
     "execution_count": 80,
     "metadata": {},
     "output_type": "execute_result"
    }
   ],
   "execution_count": 80
  },
  {
   "metadata": {
    "ExecuteTime": {
     "end_time": "2024-08-17T13:32:15.353360Z",
     "start_time": "2024-08-17T13:32:15.347854Z"
    }
   },
   "cell_type": "code",
   "source": [
    "y_true = y\n",
    "y_pred = reg.predict(X)\n",
    "print(y_pred, y_true)"
   ],
   "id": "bb8b1ea077ec54f0",
   "outputs": [
    {
     "name": "stdout",
     "output_type": "stream",
     "text": [
      "[ 6.  8.  9. 11.] [ 6  8  9 11]\n"
     ]
    }
   ],
   "execution_count": 81
  },
  {
   "metadata": {
    "ExecuteTime": {
     "end_time": "2024-08-17T13:34:00.926879Z",
     "start_time": "2024-08-17T13:34:00.922036Z"
    }
   },
   "cell_type": "code",
   "source": [
    "mean = b_hat\n",
    "variance_residuals = np.var((y_true - y_pred))\n",
    "var_covar = np.cov([b_hat, b_hat], rowvar=True)"
   ],
   "id": "e8b66780ace7aaec",
   "outputs": [],
   "execution_count": 88
  },
  {
   "metadata": {
    "ExecuteTime": {
     "end_time": "2024-08-17T13:33:37.767878Z",
     "start_time": "2024-08-17T13:33:37.764173Z"
    }
   },
   "cell_type": "code",
   "source": "print(var_covar)",
   "id": "43704ed7604015a0",
   "outputs": [
    {
     "name": "stdout",
     "output_type": "stream",
     "text": [
      "[[1. 1.]\n",
      " [1. 1.]]\n"
     ]
    }
   ],
   "execution_count": 87
  },
  {
   "metadata": {
    "ExecuteTime": {
     "end_time": "2024-08-17T13:23:49.517229Z",
     "start_time": "2024-08-17T13:23:49.511486Z"
    }
   },
   "cell_type": "code",
   "source": [
    "variance_residuals = np.var((y_true - y_pred))\n",
    "var_covar = np.cov([b_hat, b_hat], rowvar=True)\n",
    "total_variance = variance_residuals * var_covar"
   ],
   "id": "9080b2a95f1939ba",
   "outputs": [],
   "execution_count": 59
  },
  {
   "metadata": {
    "ExecuteTime": {
     "end_time": "2024-08-17T13:23:51.058501Z",
     "start_time": "2024-08-17T13:23:51.053325Z"
    }
   },
   "cell_type": "code",
   "source": "total_variance",
   "id": "aad4a04caf67ecfb",
   "outputs": [
    {
     "data": {
      "text/plain": [
       "array([[0., 0.],\n",
       "       [0., 0.]])"
      ]
     },
     "execution_count": 60,
     "metadata": {},
     "output_type": "execute_result"
    }
   ],
   "execution_count": 60
  },
  {
   "metadata": {
    "ExecuteTime": {
     "end_time": "2024-08-17T13:06:13.865896Z",
     "start_time": "2024-08-17T13:06:13.859836Z"
    }
   },
   "cell_type": "code",
   "source": "b_hat",
   "id": "e7eea68d55444ca5",
   "outputs": [
    {
     "data": {
      "text/plain": [
       "[1, 2, 3]"
      ]
     },
     "execution_count": 32,
     "metadata": {},
     "output_type": "execute_result"
    }
   ],
   "execution_count": 32
  },
  {
   "metadata": {
    "ExecuteTime": {
     "end_time": "2024-08-17T13:12:49.340Z",
     "start_time": "2024-08-17T13:12:49.337060Z"
    }
   },
   "cell_type": "code",
   "source": "print([b_hat,b_hat])",
   "id": "24b799b628c68ce2",
   "outputs": [
    {
     "name": "stdout",
     "output_type": "stream",
     "text": [
      "[[[1, 2, 3]], [[1, 2, 3]]]\n"
     ]
    }
   ],
   "execution_count": 37
  },
  {
   "metadata": {
    "ExecuteTime": {
     "end_time": "2024-08-17T13:12:58.077833Z",
     "start_time": "2024-08-17T13:12:58.074589Z"
    }
   },
   "cell_type": "code",
   "source": "(b_hat, b_hat)",
   "id": "74b0987ebf058e66",
   "outputs": [
    {
     "data": {
      "text/plain": [
       "([[1, 2, 3]], [[1, 2, 3]])"
      ]
     },
     "execution_count": 38,
     "metadata": {},
     "output_type": "execute_result"
    }
   ],
   "execution_count": 38
  },
  {
   "metadata": {
    "ExecuteTime": {
     "end_time": "2024-08-17T13:14:13.935539Z",
     "start_time": "2024-08-17T13:14:13.932773Z"
    }
   },
   "cell_type": "code",
   "source": "print(zip(b_hat, b_hat))",
   "id": "6dd548fba091136b",
   "outputs": [
    {
     "name": "stdout",
     "output_type": "stream",
     "text": [
      "<zip object at 0x7f8040ab6fa0>\n"
     ]
    }
   ],
   "execution_count": 41
  },
  {
   "metadata": {
    "ExecuteTime": {
     "end_time": "2024-08-17T13:15:08.541190Z",
     "start_time": "2024-08-17T13:15:08.537352Z"
    }
   },
   "cell_type": "code",
   "source": "np.array((b_hat, b_hat))",
   "id": "430723c30f4921e7",
   "outputs": [
    {
     "data": {
      "text/plain": [
       "array([[[1, 2, 3]],\n",
       "\n",
       "       [[1, 2, 3]]])"
      ]
     },
     "execution_count": 42,
     "metadata": {},
     "output_type": "execute_result"
    }
   ],
   "execution_count": 42
  },
  {
   "metadata": {
    "ExecuteTime": {
     "end_time": "2024-08-17T13:15:53.728481Z",
     "start_time": "2024-08-17T13:15:53.724327Z"
    }
   },
   "cell_type": "code",
   "source": "b_hat[0]",
   "id": "525ee09c44b6b159",
   "outputs": [
    {
     "data": {
      "text/plain": [
       "[1, 2, 3]"
      ]
     },
     "execution_count": 44,
     "metadata": {},
     "output_type": "execute_result"
    }
   ],
   "execution_count": 44
  },
  {
   "metadata": {
    "ExecuteTime": {
     "end_time": "2024-08-17T13:24:25.056468Z",
     "start_time": "2024-08-17T13:24:25.053040Z"
    }
   },
   "cell_type": "code",
   "source": "print([b_hat, b_hat])",
   "id": "dc0e9fefc3703155",
   "outputs": [
    {
     "name": "stdout",
     "output_type": "stream",
     "text": [
      "[[3.000000000000001, 1.0000000000000002, 1.9999999999999993], [3.000000000000001, 1.0000000000000002, 1.9999999999999993]]\n"
     ]
    }
   ],
   "execution_count": 69
  },
  {
   "metadata": {
    "ExecuteTime": {
     "end_time": "2024-08-17T13:25:23.400863Z",
     "start_time": "2024-08-17T13:25:23.398214Z"
    }
   },
   "cell_type": "code",
   "source": "print([b_hat, b_hat])",
   "id": "f4da0c675d07585",
   "outputs": [
    {
     "name": "stdout",
     "output_type": "stream",
     "text": [
      "[[3.000000000000001, 1.0000000000000002, 1.9999999999999993], [3.000000000000001, 1.0000000000000002, 1.9999999999999993]]\n"
     ]
    }
   ],
   "execution_count": 71
  },
  {
   "metadata": {
    "ExecuteTime": {
     "end_time": "2024-08-17T13:25:56.453517Z",
     "start_time": "2024-08-17T13:25:56.449894Z"
    }
   },
   "cell_type": "code",
   "source": "np.var(([b_hat, b_hat]) )",
   "id": "d3b6c047b7134203",
   "outputs": [
    {
     "data": {
      "text/plain": [
       "0.6666666666666671"
      ]
     },
     "execution_count": 73,
     "metadata": {},
     "output_type": "execute_result"
    }
   ],
   "execution_count": 73
  },
  {
   "metadata": {
    "ExecuteTime": {
     "end_time": "2024-08-17T13:59:19.120396Z",
     "start_time": "2024-08-17T13:59:19.104042Z"
    }
   },
   "cell_type": "code",
   "source": "np.cov(np.array([b_hat]).T)",
   "id": "1556f1e8f6cd247f",
   "outputs": [
    {
     "name": "stderr",
     "output_type": "stream",
     "text": [
      "/Library/Frameworks/Python.framework/Versions/3.7/lib/python3.7/site-packages/ipykernel_launcher.py:1: RuntimeWarning: Degrees of freedom <= 0 for slice\n",
      "  \"\"\"Entry point for launching an IPython kernel.\n",
      "/Library/Frameworks/Python.framework/Versions/3.7/lib/python3.7/site-packages/numpy/lib/function_base.py:2542: RuntimeWarning: divide by zero encountered in true_divide\n",
      "  c *= np.true_divide(1, fact)\n",
      "/Library/Frameworks/Python.framework/Versions/3.7/lib/python3.7/site-packages/numpy/lib/function_base.py:2542: RuntimeWarning: invalid value encountered in multiply\n",
      "  c *= np.true_divide(1, fact)\n"
     ]
    },
    {
     "data": {
      "text/plain": [
       "array([[nan, nan, nan],\n",
       "       [nan, nan, nan],\n",
       "       [nan, nan, nan]])"
      ]
     },
     "execution_count": 99,
     "metadata": {},
     "output_type": "execute_result"
    }
   ],
   "execution_count": 99
  },
  {
   "metadata": {},
   "cell_type": "code",
   "outputs": [],
   "execution_count": null,
   "source": "",
   "id": "d44ebee998372c88"
  }
 ],
 "metadata": {
  "kernelspec": {
   "display_name": "Python 3",
   "language": "python",
   "name": "python3"
  },
  "language_info": {
   "codemirror_mode": {
    "name": "ipython",
    "version": 2
   },
   "file_extension": ".py",
   "mimetype": "text/x-python",
   "name": "python",
   "nbconvert_exporter": "python",
   "pygments_lexer": "ipython2",
   "version": "2.7.6"
  }
 },
 "nbformat": 4,
 "nbformat_minor": 5
}
